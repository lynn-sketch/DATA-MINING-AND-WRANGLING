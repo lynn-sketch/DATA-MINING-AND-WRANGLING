{
 "cells": [
  {
   "cell_type": "code",
   "execution_count": 68,
   "metadata": {},
   "outputs": [],
   "source": [
    "import pandas as pd\n",
    "import seaborn as sns\n",
    "import matplotlib.pyplot as plt\n",
    "import numpy as np"
   ]
  },
  {
   "cell_type": "code",
   "execution_count": null,
   "metadata": {},
   "outputs": [
    {
     "data": {
      "application/vnd.microsoft.datawrangler.viewer.v0+json": {
       "columns": [
        {
         "name": "index",
         "rawType": "int64",
         "type": "integer"
        },
        {
         "name": "Access_no",
         "rawType": "object",
         "type": "string"
        },
        {
         "name": "gender",
         "rawType": "object",
         "type": "unknown"
        },
        {
         "name": "age",
         "rawType": "float64",
         "type": "float"
        },
        {
         "name": "course",
         "rawType": "object",
         "type": "string"
        },
        {
         "name": "DSC3108",
         "rawType": "float64",
         "type": "float"
        },
        {
         "name": "DSC3114",
         "rawType": "float64",
         "type": "float"
        },
        {
         "name": "MTH3108",
         "rawType": "float64",
         "type": "float"
        },
        {
         "name": "SYE3104",
         "rawType": "float64",
         "type": "float"
        }
       ],
       "conversionMethod": "pd.DataFrame",
       "ref": "8804a12d-0de8-492c-8cfd-d7578f91c411",
       "rows": [
        [
         "0",
         "Q104895",
         "Female",
         "21.0",
         "Engineering",
         "1000.0",
         "88.0",
         null,
         "94.0"
        ],
        [
         "1",
         "J499692",
         "Male",
         "35.0",
         "Engineering",
         "71.0",
         "77.0",
         "90.0",
         "76.0"
        ],
        [
         "2",
         "F664488",
         "Female",
         "22.0",
         "Engineering",
         "90.0",
         "83.0",
         "80.0",
         null
        ],
        [
         "3",
         "L070268",
         "Male",
         "32.0",
         "Engineering",
         "83.0",
         "80.0",
         "77.0",
         "97.0"
        ],
        [
         "4",
         "F695622",
         "Male",
         "27.0",
         "Computer Science",
         "79.0",
         "83.0",
         "64.0",
         "58.0"
        ],
        [
         "5",
         "X888993",
         "Female",
         "34.0",
         "Mathematics",
         "97.0",
         "65.0",
         "50.0",
         null
        ],
        [
         "6",
         "Q769018",
         "Male",
         "20.0",
         "Mathematics",
         "61.0",
         "61.0",
         "91.0",
         "91.0"
        ],
        [
         "7",
         "L304919",
         "Male",
         null,
         "Business",
         "72.0",
         "52.0",
         "78.0",
         "97.0"
        ],
        [
         "8",
         "U086610",
         "Female",
         "33.0",
         "Mathematics",
         "77.0",
         "73.0",
         "83.0",
         "97.0"
        ],
        [
         "9",
         "X242205",
         "Male",
         "21.0",
         "Mathematics",
         "64.0",
         "65.0",
         "95.0",
         "60.0"
        ],
        [
         "10",
         "Z915006",
         "Female",
         "40.0",
         "Computer Science",
         "99.0",
         "97.0",
         "100.0",
         "80.0"
        ],
        [
         "11",
         "H371049",
         "Male",
         "35.0",
         "Mathematics",
         "76.0",
         "55.0",
         "81.0",
         "68.0"
        ],
        [
         "12",
         "X876619",
         "Male",
         "27.0",
         "Mathematics",
         "96.0",
         "68.0",
         "3.0",
         "59.0"
        ],
        [
         "13",
         "P150271",
         "Female",
         "31.0",
         "Computer Science",
         "132.0",
         "85.0",
         "52.0",
         "77.0"
        ],
        [
         "14",
         "C240004",
         "Male",
         "18.0",
         "Mathematics",
         "62.0",
         "73.0",
         null,
         "70.0"
        ],
        [
         "15",
         "U065663",
         "Female",
         "27.0",
         "Mathematics",
         "78.0",
         "98.0",
         "100.0",
         "89.0"
        ],
        [
         "16",
         "U554869",
         "Male",
         null,
         "Computer Science",
         "90.0",
         "93.0",
         "79.0",
         "99.0"
        ],
        [
         "17",
         "Z454581",
         "Male",
         "31.0",
         "Computer Science",
         "65.0",
         "92.0",
         "84.0",
         "81.0"
        ],
        [
         "18",
         "J013397",
         "Female",
         "24.0",
         "Mathematics",
         "93.0",
         "83.0",
         null,
         null
        ],
        [
         "19",
         "Z794997",
         "Male",
         "33.0",
         "Engineering",
         "81.0",
         "83.0",
         "53.0",
         "62.0"
        ],
        [
         "20",
         "J265635",
         "Male",
         "35.0",
         "Engineering",
         "89.0",
         "98.0",
         "94.0",
         "86.0"
        ],
        [
         "21",
         "Q057112",
         "Female",
         "30.0",
         "Business",
         "74.0",
         "85.0",
         "94.0",
         "99.0"
        ],
        [
         "22",
         "Y990819",
         "Male",
         "25.0",
         "Mathematics",
         "72.0",
         "96.0",
         "66.0",
         null
        ],
        [
         "23",
         "O985513",
         "Male",
         "37.0",
         "Engineering",
         "51.0",
         "50.0",
         "73.0",
         "78.0"
        ],
        [
         "24",
         "G233065",
         "Female",
         "31.0",
         "Computer Science",
         "93.0",
         "92.0",
         "77.0",
         "97.0"
        ],
        [
         "25",
         "V042655",
         null,
         "27.0",
         "Engineering",
         "68.0",
         "50.0",
         "82.0",
         "95.0"
        ],
        [
         "26",
         "K287192",
         "Male",
         "18.0",
         "Engineering",
         "54.0",
         "70.0",
         "58.0",
         "98.0"
        ],
        [
         "27",
         "W692772",
         "Female",
         "18.0",
         "Engineering",
         "53.0",
         "73.0",
         "51.0",
         "82.0"
        ],
        [
         "28",
         "G829816",
         null,
         "40.0",
         "Business",
         "100.0",
         "97.0",
         "9.0",
         null
        ],
        [
         "29",
         "H460006",
         "Female",
         "38.0",
         "Mathematics",
         "53.0",
         "59.0",
         "51.0",
         "85.0"
        ],
        [
         "30",
         "I100565",
         "Male",
         "22.0",
         "Business",
         "66.0",
         null,
         "71.0",
         "64.0"
        ],
        [
         "31",
         "R894024",
         "Female",
         "31.0",
         "Mathematics",
         "65.0",
         "87.0",
         "54.0",
         "80.0"
        ],
        [
         "32",
         "Q040205",
         "Female",
         "37.0",
         "Mathematics",
         "89.0",
         "54.0",
         "92.0",
         "64.0"
        ],
        [
         "33",
         "U631254",
         "Female",
         "29.0",
         "Business",
         "60.0",
         "78.0",
         "59.0",
         "87.0"
        ],
        [
         "34",
         "M920238",
         "Female",
         "40.0",
         "Computer Science",
         "99.0",
         "70.0",
         "87.0",
         "91.0"
        ],
        [
         "35",
         "O268203",
         "Female",
         null,
         "Computer Science",
         "83.0",
         "99.0",
         "64.0",
         "57.0"
        ],
        [
         "36",
         "D531859",
         "Male",
         "28.0",
         "Mathematics",
         "61.0",
         "72.0",
         "76.0",
         "72.0"
        ],
        [
         "37",
         "L403497",
         "Female",
         "25.0",
         "Business",
         "83.0",
         "73.0",
         null,
         "71.0"
        ],
        [
         "38",
         "K473384",
         "Male",
         "26.0",
         "Business",
         "61.0",
         "95.0",
         "74.0",
         "74.0"
        ],
        [
         "39",
         "T194746",
         "Male",
         "27.0",
         "Business",
         "92.0",
         "97.0",
         "96.0",
         "61.0"
        ],
        [
         "40",
         "X431931",
         "Female",
         null,
         "Computer Science",
         "100.0",
         "78.0",
         "95.0",
         "75.0"
        ],
        [
         "41",
         "W166177",
         "Male",
         "38.0",
         "Engineering",
         "74.0",
         "81.0",
         "76.0",
         "56.0"
        ],
        [
         "42",
         "Y886134",
         "Male",
         "32.0",
         "Mathematics",
         "83.0",
         "72.0",
         "64.0",
         "98.0"
        ],
        [
         "43",
         "J957975",
         "Male",
         "39.0",
         "Mathematics",
         "66.0",
         "65.0",
         "91.0",
         "69.0"
        ],
        [
         "44",
         "N818956",
         "Male",
         "23.0",
         "Business",
         "74.0",
         "86.0",
         "57.0",
         "74.0"
        ],
        [
         "45",
         "D756349",
         "Female",
         "38.0",
         "Business",
         "51.0",
         "100.0",
         "73.0",
         "69.0"
        ],
        [
         "46",
         "C591067",
         "Female",
         null,
         "Mathematics",
         "80.0",
         "85.0",
         "92.0",
         "55.0"
        ],
        [
         "47",
         "E972304",
         "Male",
         "36.0",
         "Business",
         "94.0",
         "60.0",
         "63.0",
         "86.0"
        ],
        [
         "48",
         "N763895",
         "Male",
         "40.0",
         "Engineering",
         "69.0",
         "57.0",
         "86.0",
         "87.0"
        ],
        [
         "49",
         "Q319812",
         "Female",
         "22.0",
         "Business",
         "76.0",
         "95.0",
         "72.0",
         "62.0"
        ]
       ],
       "shape": {
        "columns": 8,
        "rows": 300
       }
      },
      "text/html": [
       "<div>\n",
       "<style scoped>\n",
       "    .dataframe tbody tr th:only-of-type {\n",
       "        vertical-align: middle;\n",
       "    }\n",
       "\n",
       "    .dataframe tbody tr th {\n",
       "        vertical-align: top;\n",
       "    }\n",
       "\n",
       "    .dataframe thead th {\n",
       "        text-align: right;\n",
       "    }\n",
       "</style>\n",
       "<table border=\"1\" class=\"dataframe\">\n",
       "  <thead>\n",
       "    <tr style=\"text-align: right;\">\n",
       "      <th></th>\n",
       "      <th>Access_no</th>\n",
       "      <th>gender</th>\n",
       "      <th>age</th>\n",
       "      <th>course</th>\n",
       "      <th>DSC3108</th>\n",
       "      <th>DSC3114</th>\n",
       "      <th>MTH3108</th>\n",
       "      <th>SYE3104</th>\n",
       "    </tr>\n",
       "  </thead>\n",
       "  <tbody>\n",
       "    <tr>\n",
       "      <th>0</th>\n",
       "      <td>Q104895</td>\n",
       "      <td>Female</td>\n",
       "      <td>21.0</td>\n",
       "      <td>Engineering</td>\n",
       "      <td>1000.0</td>\n",
       "      <td>88.0</td>\n",
       "      <td>NaN</td>\n",
       "      <td>94.0</td>\n",
       "    </tr>\n",
       "    <tr>\n",
       "      <th>1</th>\n",
       "      <td>J499692</td>\n",
       "      <td>Male</td>\n",
       "      <td>35.0</td>\n",
       "      <td>Engineering</td>\n",
       "      <td>71.0</td>\n",
       "      <td>77.0</td>\n",
       "      <td>90.0</td>\n",
       "      <td>76.0</td>\n",
       "    </tr>\n",
       "    <tr>\n",
       "      <th>2</th>\n",
       "      <td>F664488</td>\n",
       "      <td>Female</td>\n",
       "      <td>22.0</td>\n",
       "      <td>Engineering</td>\n",
       "      <td>90.0</td>\n",
       "      <td>83.0</td>\n",
       "      <td>80.0</td>\n",
       "      <td>NaN</td>\n",
       "    </tr>\n",
       "    <tr>\n",
       "      <th>3</th>\n",
       "      <td>L070268</td>\n",
       "      <td>Male</td>\n",
       "      <td>32.0</td>\n",
       "      <td>Engineering</td>\n",
       "      <td>83.0</td>\n",
       "      <td>80.0</td>\n",
       "      <td>77.0</td>\n",
       "      <td>97.0</td>\n",
       "    </tr>\n",
       "    <tr>\n",
       "      <th>4</th>\n",
       "      <td>F695622</td>\n",
       "      <td>Male</td>\n",
       "      <td>27.0</td>\n",
       "      <td>Computer Science</td>\n",
       "      <td>79.0</td>\n",
       "      <td>83.0</td>\n",
       "      <td>64.0</td>\n",
       "      <td>58.0</td>\n",
       "    </tr>\n",
       "    <tr>\n",
       "      <th>...</th>\n",
       "      <td>...</td>\n",
       "      <td>...</td>\n",
       "      <td>...</td>\n",
       "      <td>...</td>\n",
       "      <td>...</td>\n",
       "      <td>...</td>\n",
       "      <td>...</td>\n",
       "      <td>...</td>\n",
       "    </tr>\n",
       "    <tr>\n",
       "      <th>295</th>\n",
       "      <td>N524494</td>\n",
       "      <td>Male</td>\n",
       "      <td>35.0</td>\n",
       "      <td>Engineering</td>\n",
       "      <td>94.0</td>\n",
       "      <td>53.0</td>\n",
       "      <td>96.0</td>\n",
       "      <td>59.0</td>\n",
       "    </tr>\n",
       "    <tr>\n",
       "      <th>296</th>\n",
       "      <td>Y193431</td>\n",
       "      <td>Male</td>\n",
       "      <td>NaN</td>\n",
       "      <td>Mathematics</td>\n",
       "      <td>NaN</td>\n",
       "      <td>52.0</td>\n",
       "      <td>63.0</td>\n",
       "      <td>100.0</td>\n",
       "    </tr>\n",
       "    <tr>\n",
       "      <th>297</th>\n",
       "      <td>R876132</td>\n",
       "      <td>Female</td>\n",
       "      <td>40.0</td>\n",
       "      <td>Computer Science</td>\n",
       "      <td>66.0</td>\n",
       "      <td>95.0</td>\n",
       "      <td>78.0</td>\n",
       "      <td>94.0</td>\n",
       "    </tr>\n",
       "    <tr>\n",
       "      <th>298</th>\n",
       "      <td>A471182</td>\n",
       "      <td>Male</td>\n",
       "      <td>36.0</td>\n",
       "      <td>Business</td>\n",
       "      <td>67.0</td>\n",
       "      <td>71.0</td>\n",
       "      <td>86.0</td>\n",
       "      <td>66.0</td>\n",
       "    </tr>\n",
       "    <tr>\n",
       "      <th>299</th>\n",
       "      <td>J728737</td>\n",
       "      <td>Male</td>\n",
       "      <td>40.0</td>\n",
       "      <td>Business</td>\n",
       "      <td>73.0</td>\n",
       "      <td>58.0</td>\n",
       "      <td>NaN</td>\n",
       "      <td>70.0</td>\n",
       "    </tr>\n",
       "  </tbody>\n",
       "</table>\n",
       "<p>300 rows × 8 columns</p>\n",
       "</div>"
      ],
      "text/plain": [
       "    Access_no  gender   age            course  DSC3108  DSC3114  MTH3108  \\\n",
       "0     Q104895  Female  21.0       Engineering   1000.0     88.0      NaN   \n",
       "1     J499692    Male  35.0       Engineering     71.0     77.0     90.0   \n",
       "2     F664488  Female  22.0       Engineering     90.0     83.0     80.0   \n",
       "3     L070268    Male  32.0       Engineering     83.0     80.0     77.0   \n",
       "4     F695622    Male  27.0  Computer Science     79.0     83.0     64.0   \n",
       "..        ...     ...   ...               ...      ...      ...      ...   \n",
       "295   N524494    Male  35.0       Engineering     94.0     53.0     96.0   \n",
       "296   Y193431    Male   NaN       Mathematics      NaN     52.0     63.0   \n",
       "297   R876132  Female  40.0  Computer Science     66.0     95.0     78.0   \n",
       "298   A471182    Male  36.0          Business     67.0     71.0     86.0   \n",
       "299   J728737    Male  40.0          Business     73.0     58.0      NaN   \n",
       "\n",
       "     SYE3104  \n",
       "0       94.0  \n",
       "1       76.0  \n",
       "2        NaN  \n",
       "3       97.0  \n",
       "4       58.0  \n",
       "..       ...  \n",
       "295     59.0  \n",
       "296    100.0  \n",
       "297     94.0  \n",
       "298     66.0  \n",
       "299     70.0  \n",
       "\n",
       "[300 rows x 8 columns]"
      ]
     },
     "execution_count": 4,
     "metadata": {},
     "output_type": "execute_result"
    }
   ],
   "source": [
    "##if it seperated by anything except a coma do this below\n",
    "##df = pd.read_csv(\"file.csv\",sep = \"|\")\n",
    "##df = pd.read_csv(\"file.csv\",comment = \"#\")\n",
    "df1 = pd.read_excel(\"Student_performance1.xlsx\")\n",
    "df1"
   ]
  },
  {
   "cell_type": "code",
   "execution_count": 6,
   "metadata": {},
   "outputs": [
    {
     "data": {
      "text/plain": [
       "(300, 8)"
      ]
     },
     "execution_count": 6,
     "metadata": {},
     "output_type": "execute_result"
    }
   ],
   "source": [
    "##EXPLORATORY DATA ANALYSIS\n",
    "df1.shape"
   ]
  },
  {
   "cell_type": "code",
   "execution_count": 17,
   "metadata": {},
   "outputs": [
    {
     "name": "stdout",
     "output_type": "stream",
     "text": [
      "<class 'pandas.core.frame.DataFrame'>\n",
      "RangeIndex: 300 entries, 0 to 299\n",
      "Data columns (total 8 columns):\n",
      " #   Column     Non-Null Count  Dtype  \n",
      "---  ------     --------------  -----  \n",
      " 0   Access_no  300 non-null    object \n",
      " 1   gender     272 non-null    object \n",
      " 2   age        269 non-null    float64\n",
      " 3   course     300 non-null    object \n",
      " 4   DSC3108    292 non-null    float64\n",
      " 5   DSC3114    283 non-null    float64\n",
      " 6   MTH3108    283 non-null    float64\n",
      " 7   SYE3104    286 non-null    float64\n",
      "dtypes: float64(5), object(3)\n",
      "memory usage: 18.9+ KB\n"
     ]
    }
   ],
   "source": [
    "df1.info()"
   ]
  },
  {
   "cell_type": "code",
   "execution_count": 16,
   "metadata": {},
   "outputs": [
    {
     "data": {
      "application/vnd.microsoft.datawrangler.viewer.v0+json": {
       "columns": [
        {
         "name": "index",
         "rawType": "object",
         "type": "string"
        },
        {
         "name": "age",
         "rawType": "float64",
         "type": "float"
        },
        {
         "name": "DSC3108",
         "rawType": "float64",
         "type": "float"
        },
        {
         "name": "DSC3114",
         "rawType": "float64",
         "type": "float"
        },
        {
         "name": "MTH3108",
         "rawType": "float64",
         "type": "float"
        },
        {
         "name": "SYE3104",
         "rawType": "float64",
         "type": "float"
        }
       ],
       "conversionMethod": "pd.DataFrame",
       "ref": "23f3ba40-c790-432e-8c63-2ce7de3f7282",
       "rows": [
        [
         "count",
         "269.0",
         "292.0",
         "283.0",
         "283.0",
         "286.0"
        ],
        [
         "mean",
         "30.773234200743495",
         "80.3013698630137",
         "93.46643109540636",
         "73.84098939929329",
         "83.96853146853147"
        ],
        [
         "std",
         "13.071726251244806",
         "56.68201165142625",
         "293.1261947825786",
         "17.43964714765293",
         "114.82100053627663"
        ],
        [
         "min",
         "5.0",
         "0.0",
         "50.0",
         "-9.0",
         "0.0"
        ],
        [
         "25%",
         "23.0",
         "64.0",
         "63.0",
         "61.0",
         "64.0"
        ],
        [
         "50%",
         "30.0",
         "77.0",
         "76.0",
         "74.0",
         "79.0"
        ],
        [
         "75%",
         "36.0",
         "90.0",
         "90.0",
         "88.0",
         "89.75"
        ],
        [
         "max",
         "120.0",
         "1000.0",
         "5000.0",
         "110.0",
         "2000.0"
        ]
       ],
       "shape": {
        "columns": 5,
        "rows": 8
       }
      },
      "text/html": [
       "<div>\n",
       "<style scoped>\n",
       "    .dataframe tbody tr th:only-of-type {\n",
       "        vertical-align: middle;\n",
       "    }\n",
       "\n",
       "    .dataframe tbody tr th {\n",
       "        vertical-align: top;\n",
       "    }\n",
       "\n",
       "    .dataframe thead th {\n",
       "        text-align: right;\n",
       "    }\n",
       "</style>\n",
       "<table border=\"1\" class=\"dataframe\">\n",
       "  <thead>\n",
       "    <tr style=\"text-align: right;\">\n",
       "      <th></th>\n",
       "      <th>age</th>\n",
       "      <th>DSC3108</th>\n",
       "      <th>DSC3114</th>\n",
       "      <th>MTH3108</th>\n",
       "      <th>SYE3104</th>\n",
       "    </tr>\n",
       "  </thead>\n",
       "  <tbody>\n",
       "    <tr>\n",
       "      <th>count</th>\n",
       "      <td>269.000000</td>\n",
       "      <td>292.000000</td>\n",
       "      <td>283.000000</td>\n",
       "      <td>283.000000</td>\n",
       "      <td>286.000000</td>\n",
       "    </tr>\n",
       "    <tr>\n",
       "      <th>mean</th>\n",
       "      <td>30.773234</td>\n",
       "      <td>80.301370</td>\n",
       "      <td>93.466431</td>\n",
       "      <td>73.840989</td>\n",
       "      <td>83.968531</td>\n",
       "    </tr>\n",
       "    <tr>\n",
       "      <th>std</th>\n",
       "      <td>13.071726</td>\n",
       "      <td>56.682012</td>\n",
       "      <td>293.126195</td>\n",
       "      <td>17.439647</td>\n",
       "      <td>114.821001</td>\n",
       "    </tr>\n",
       "    <tr>\n",
       "      <th>min</th>\n",
       "      <td>5.000000</td>\n",
       "      <td>0.000000</td>\n",
       "      <td>50.000000</td>\n",
       "      <td>-9.000000</td>\n",
       "      <td>0.000000</td>\n",
       "    </tr>\n",
       "    <tr>\n",
       "      <th>25%</th>\n",
       "      <td>23.000000</td>\n",
       "      <td>64.000000</td>\n",
       "      <td>63.000000</td>\n",
       "      <td>61.000000</td>\n",
       "      <td>64.000000</td>\n",
       "    </tr>\n",
       "    <tr>\n",
       "      <th>50%</th>\n",
       "      <td>30.000000</td>\n",
       "      <td>77.000000</td>\n",
       "      <td>76.000000</td>\n",
       "      <td>74.000000</td>\n",
       "      <td>79.000000</td>\n",
       "    </tr>\n",
       "    <tr>\n",
       "      <th>75%</th>\n",
       "      <td>36.000000</td>\n",
       "      <td>90.000000</td>\n",
       "      <td>90.000000</td>\n",
       "      <td>88.000000</td>\n",
       "      <td>89.750000</td>\n",
       "    </tr>\n",
       "    <tr>\n",
       "      <th>max</th>\n",
       "      <td>120.000000</td>\n",
       "      <td>1000.000000</td>\n",
       "      <td>5000.000000</td>\n",
       "      <td>110.000000</td>\n",
       "      <td>2000.000000</td>\n",
       "    </tr>\n",
       "  </tbody>\n",
       "</table>\n",
       "</div>"
      ],
      "text/plain": [
       "              age      DSC3108      DSC3114     MTH3108      SYE3104\n",
       "count  269.000000   292.000000   283.000000  283.000000   286.000000\n",
       "mean    30.773234    80.301370    93.466431   73.840989    83.968531\n",
       "std     13.071726    56.682012   293.126195   17.439647   114.821001\n",
       "min      5.000000     0.000000    50.000000   -9.000000     0.000000\n",
       "25%     23.000000    64.000000    63.000000   61.000000    64.000000\n",
       "50%     30.000000    77.000000    76.000000   74.000000    79.000000\n",
       "75%     36.000000    90.000000    90.000000   88.000000    89.750000\n",
       "max    120.000000  1000.000000  5000.000000  110.000000  2000.000000"
      ]
     },
     "execution_count": 16,
     "metadata": {},
     "output_type": "execute_result"
    }
   ],
   "source": [
    "df1.describe()"
   ]
  },
  {
   "cell_type": "code",
   "execution_count": 15,
   "metadata": {},
   "outputs": [
    {
     "data": {
      "text/plain": [
       "(300, 8)"
      ]
     },
     "execution_count": 15,
     "metadata": {},
     "output_type": "execute_result"
    }
   ],
   "source": [
    "df1.shape"
   ]
  },
  {
   "cell_type": "code",
   "execution_count": 19,
   "metadata": {},
   "outputs": [
    {
     "data": {
      "text/plain": [
       "Access_no     0\n",
       "gender       28\n",
       "age          31\n",
       "course        0\n",
       "DSC3108       8\n",
       "DSC3114      17\n",
       "MTH3108      17\n",
       "SYE3104      14\n",
       "dtype: int64"
      ]
     },
     "execution_count": 19,
     "metadata": {},
     "output_type": "execute_result"
    }
   ],
   "source": [
    "##Checking for missing values\n",
    "df1.isna().sum()"
   ]
  },
  {
   "cell_type": "code",
   "execution_count": 23,
   "metadata": {},
   "outputs": [
    {
     "data": {
      "text/plain": [
       "Access_no     0\n",
       "gender        0\n",
       "age          31\n",
       "course        0\n",
       "DSC3108       8\n",
       "DSC3114      17\n",
       "MTH3108      17\n",
       "SYE3104      14\n",
       "dtype: int64"
      ]
     },
     "execution_count": 23,
     "metadata": {},
     "output_type": "execute_result"
    }
   ],
   "source": [
    "##gender missing values\n",
    "df1[\"gender\"] = df1[\"gender\"].fillna(df1[\"gender\"].mode())\n",
    "df1[\"gender\"].isna().sum()\n",
    "df1.isna().sum()"
   ]
  },
  {
   "cell_type": "code",
   "execution_count": 34,
   "metadata": {},
   "outputs": [
    {
     "data": {
      "text/plain": [
       "<Figure size 640x480 with 0 Axes>"
      ]
     },
     "metadata": {},
     "output_type": "display_data"
    }
   ],
   "source": [
    "def visual(data):\n",
    "    plt.figure(figsize=(20,20))\n",
    "    for i, col in enumerate(data.columns):\n",
    "        if data[col].dtype in [\"float64\",\"int64\"]:\n",
    "            plt.subplot(4,4,i+1)\n",
    "            plt.hist(data[col])\n",
    "            plt.title(col)\n",
    "plt.show()\n",
    "plt.tight_layout()\n"
   ]
  },
  {
   "cell_type": "code",
   "execution_count": 35,
   "metadata": {},
   "outputs": [
    {
     "data": {
      "image/png": "[encoded data removed]",
      "text/plain": [
       "<Figure size 2000x2000 with 5 Axes>"
      ]
     },
     "metadata": {},
     "output_type": "display_data"
    }
   ],
   "source": [
    "visual(df1)"
   ]
  },
  {
   "cell_type": "code",
   "execution_count": 78,
   "metadata": {},
   "outputs": [],
   "source": [
    "def remove_missing_values(data):\n",
    "    for col in data.columns:\n",
    "        if data[col].dtype in [\"float64\",\"int64\"]:\n",
    "            data[col] = data[col].fillna(data[col].median())\n",
    "    return data"
   ]
  },
  {
   "cell_type": "code",
   "execution_count": 79,
   "metadata": {},
   "outputs": [
    {
     "data": {
      "text/plain": [
       "Access_no    0\n",
       "gender       0\n",
       "age          0\n",
       "course       0\n",
       "DSC3108      0\n",
       "DSC3114      0\n",
       "MTH3108      0\n",
       "SYE3104      0\n",
       "dtype: int64"
      ]
     },
     "execution_count": 79,
     "metadata": {},
     "output_type": "execute_result"
    }
   ],
   "source": [
    "remove_missing_values(df1)\n",
    "df1.isna().sum()"
   ]
  },
  {
   "cell_type": "code",
   "execution_count": 55,
   "metadata": {},
   "outputs": [
    {
     "data": {
      "text/plain": [
       "<Figure size 640x480 with 0 Axes>"
      ]
     },
     "metadata": {},
     "output_type": "display_data"
    }
   ],
   "source": [
    "##plotting boxplots \n",
    "def visual1(data):\n",
    "    plt.figure(figsize=(20,20))\n",
    "    for i, col in enumerate(data.columns):\n",
    "        if data[col].dtype in ['float64','int64']:\n",
    "            plt.subplot(4,4,i+1)\n",
    "            sns.boxplot(data[col])\n",
    "            plt.title(col)\n",
    "plt.tight_layout()\n",
    "plt.show()"
   ]
  },
  {
   "cell_type": "code",
   "execution_count": 56,
   "metadata": {},
   "outputs": [
    {
     "data": {
      "image/png": "[encoded data removed]",
      "text/plain": [
       "<Figure size 2000x2000 with 5 Axes>"
      ]
     },
     "metadata": {},
     "output_type": "display_data"
    }
   ],
   "source": [
    "visual1(df1)"
   ]
  },
  {
   "cell_type": "code",
   "execution_count": 69,
   "metadata": {},
   "outputs": [],
   "source": [
    "def remove_outliers(data):\n",
    "    for col in data.columns:\n",
    "        if data[col].dtype in ['float64','int64']:\n",
    "            q1= data[col].quantile(0.25)\n",
    "            q3 = data[col].quantile(0.75)\n",
    "            IQR = q3 - q1\n",
    "            upperboundary = q3 + 1.5* IQR\n",
    "            lowerboundary = q1 - 1.5* IQR\n",
    "\n",
    "            data[col] = np.where(data[col] > upperboundary,upperboundary,data[col])\n",
    "            data[col] = np.where(data[col] < lowerboundary,lowerboundary,data[col])"
   ]
  },
  {
   "cell_type": "code",
   "execution_count": 71,
   "metadata": {},
   "outputs": [
    {
     "data": {
      "image/png": "[encoded data removed]",
      "text/plain": [
       "<Figure size 2000x2000 with 5 Axes>"
      ]
     },
     "metadata": {},
     "output_type": "display_data"
    }
   ],
   "source": [
    "remove_outliers(df1)\n",
    "visual1(df1)"
   ]
  }
 ],
 "metadata": {
  "kernelspec": {
   "display_name": "Python 3",
   "language": "python",
   "name": "python3"
  },
  "language_info": {
   "codemirror_mode": {
    "name": "ipython",
    "version": 3
   },
   "file_extension": ".py",
   "mimetype": "text/x-python",
   "name": "python",
   "nbconvert_exporter": "python",
   "pygments_lexer": "ipython3",
   "version": "3.12.5"
  }
 },
 "nbformat": 4,
 "nbformat_minor": 2
}
